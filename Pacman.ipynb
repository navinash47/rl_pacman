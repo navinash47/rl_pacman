{
 "cells": [
  {
   "cell_type": "code",
   "execution_count": 9,
   "metadata": {},
   "outputs": [],
   "source": [
    "# Cell 1: Imports\n",
    "import numpy as np\n",
    "from Montecarlotree import MCTS, Node\n",
    "from typing import List, Tuple\n",
    "import random\n",
    "import time\n",
    "import gymnasium as gym\n",
    "import ale_py"
   ]
  },
  {
   "cell_type": "code",
   "execution_count": 96,
   "metadata": {},
   "outputs": [],
   "source": [
    "# Cell 2: PacmanNode class\n",
    "class PacmanNode(Node):\n",
    "    def __init__(self, state, parent=None):\n",
    "        self.state = state\n",
    "        self.parent = parent\n",
    "        self.children = []\n",
    "        self.visits = 0\n",
    "        self.value = 0.0\n",
    "        self.action_space = None\n",
    "        self.untried_actions = []  # Initialize empty, will be set later\n",
    "  \n",
    "    def set_possible_actions(self, action_space) -> List:\n",
    "        self.action_space = action_space\n",
    "        self.untried_actions = list(range(self.action_space.n))\n",
    "    \n",
    "    def get_possible_actions(self) -> List:\n",
    "        if self.action_space is None:\n",
    "            return []  # Return empty list if actions not yet set\n",
    "        return list(range(self.action_space.n))"
   ]
  },
  {
   "cell_type": "code",
   "execution_count": 100,
   "metadata": {},
   "outputs": [
    {
     "name": "stdout",
     "output_type": "stream",
     "text": [
      "Possible actions: [0, 1, 2, 3, 4]\n",
      "Untried actions: [0, 1, 2, 3, 4]\n",
      "Action space: Discrete(5)\n",
      "State: (250, 160, 3)\n",
      "Parent: None\n",
      "Children: []\n",
      "Visits: 0\n",
      "Value: 0.0\n"
     ]
    }
   ],
   "source": [
    "# Test PacmanNode\n",
    "test_env = gym.make(\n",
    "    \"ALE/Pacman-v5\",\n",
    "    render_mode=\"rgb_array\",\n",
    "    difficulty=0,\n",
    "    mode=0,\n",
    "    repeat_action_probability=0.0,\n",
    "    frameskip=4,\n",
    ")\n",
    "initial_state, info = test_env.reset()\n",
    "test_node = PacmanNode(initial_state)\n",
    "test_node.set_possible_actions(test_env.action_space)\n",
    "print(\"Possible actions:\", test_node.get_possible_actions())\n",
    "print(\"Untried actions:\", test_node.untried_actions)\n",
    "print(\"Action space:\", test_node.action_space)\n",
    "print(\"State:\", test_node.state.shape)\n",
    "print(\"Parent:\", test_node.parent)\n",
    "print(\"Children:\", test_node.children)\n",
    "print(\"Visits:\", test_node.visits)\n",
    "print(\"Value:\", test_node.value)\n",
    "test_env.close()\n",
    "\n",
    "\n"
   ]
  },
  {
   "cell_type": "code",
   "execution_count": 75,
   "metadata": {},
   "outputs": [],
   "source": [
    "# Cell 3: PacmanMCTS class\n",
    "class PacmanMCTS(MCTS):\n",
    "    def __init__(self, exploration_weight=1.0):\n",
    "        super().__init__(exploration_weight)\n",
    "        self.env = gym.make(\n",
    "            \"ALE/Pacman-v5\",\n",
    "            render_mode=\"rgb_array\",\n",
    "            difficulty=0,  # Easiest difficulty\n",
    "            mode=0,        # Default mode\n",
    "            repeat_action_probability=0.0,  # Fully deterministic\n",
    "            frameskip=4,   # Fixed frameskip\n",
    "        )\n",
    "        self.action_space = self.env.action_space\n",
    "        print(self.action_space)\n",
    "        self.observation_space = self.env.observation_space \n",
    "        print(self.observation_space)\n",
    "\n",
    "    def _get_current_state(self,state):\n",
    "        return state\n",
    "        \n",
    "    \n",
    "    def _get_new_position(self, pos: Tuple[int, int], action: str) -> Tuple[int, int]:\n",
    "        x, y = pos\n",
    "        if action == 'UP': return (x, y + 1)\n",
    "        if action == 'DOWN': return (x, y - 1)\n",
    "        if action == 'LEFT': return (x - 1, y)\n",
    "        if action == 'RIGHT': return (x + 1, y)\n",
    "        return pos\n",
    "\n"
   ]
  },
  {
   "cell_type": "code",
   "execution_count": 76,
   "metadata": {},
   "outputs": [],
   "source": [
    "# Cell 4: Test the implementation\n",
    "import matplotlib.pyplot as plt\n",
    "import time\n",
    "\n",
    "def create_simple_game_state(mcts):\n",
    "    observation,info = mcts.env.reset()\n",
    "    plt.figure(figsize=(8, 6))\n",
    "    plt.imshow(observation)\n",
    "    plt.axis('off')\n",
    "    # plt.close()\n",
    "    time.sleep(0.1)  # Add delay to make it viewable\n",
    "    return observation,info\n",
    "\n",
    "\n"
   ]
  },
  {
   "cell_type": "code",
   "execution_count": 77,
   "metadata": {},
   "outputs": [],
   "source": [
    "# Cell 5: Run simulation\n",
    "from IPython import display\n",
    "def run_simulation(num_episodes=5, max_steps=100, render=True):\n",
    "    mcts = PacmanMCTS(exploration_weight=1.4)\n",
    "    all_rewards = []\n",
    "    \n",
    "    for episode in range(num_episodes):\n",
    "        observation, info = create_simple_game_state(mcts)\n",
    "        total_reward = 0\n",
    "        \n",
    "        print(f\"\\nEpisode {episode + 1}\")\n",
    "        print(f\"Initial Info: {info}\")\n",
    "        \n",
    "        for step in range(max_steps):\n",
    "            # Random action\n",
    "            action = mcts.action_space.sample()\n",
    "            \n",
    "            observation, reward, terminated, truncated, info = mcts.env.step(action)\n",
    "            state\n",
    "            total_reward += reward\n",
    "            \n",
    "            # Render if requested\n",
    "            if render:\n",
    "                plt.figure(figsize=(8, 6))\n",
    "                plt.imshow(observation)\n",
    "                plt.axis('off')\n",
    "               \n",
    "                display.clear_output(wait=True)\n",
    "                display.display(plt.gcf())\n",
    "                plt.close()\n",
    "                time.sleep(0.1)  # Add delay to make it viewable\n",
    "        \n",
    "            if terminated or truncated:\n",
    "                break\n",
    "                \n",
    "        print(f\"Episode {episode + 1} finished with total reward: {total_reward}\")\n",
    "        all_rewards.append(total_reward)\n",
    "    \n",
    "    return all_rewards\n"
   ]
  },
  {
   "cell_type": "code",
   "execution_count": null,
   "metadata": {},
   "outputs": [],
   "source": []
  }
 ],
 "metadata": {
  "kernelspec": {
   "display_name": "Python 3",
   "language": "python",
   "name": "python3"
  },
  "language_info": {
   "codemirror_mode": {
    "name": "ipython",
    "version": 3
   },
   "file_extension": ".py",
   "mimetype": "text/x-python",
   "name": "python",
   "nbconvert_exporter": "python",
   "pygments_lexer": "ipython3",
   "version": "3.9.6"
  }
 },
 "nbformat": 4,
 "nbformat_minor": 2
}
