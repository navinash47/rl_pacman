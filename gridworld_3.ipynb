{
 "cells": [
  {
   "cell_type": "code",
   "execution_count": 1,
   "metadata": {},
   "outputs": [],
   "source": [
    "import numpy as np\n",
    "import matplotlib.pyplot as plt\n",
    "from catvsmonsters import catVsMonsters\n",
    "from grid_world import GridWorld"
   ]
  },
  {
   "cell_type": "code",
   "execution_count": 2,
   "metadata": {},
   "outputs": [],
   "source": [
    "import time\n",
    "from tqdm import tqdm\n",
    "class Node:\n",
    "    def __init__(self, state, parent=None):\n",
    "        self.state = state\n",
    "        self.parent = parent\n",
    "        self.children = []\n",
    "        self.visits = 0\n",
    "        self.value = 0.0\n",
    "\n",
    "class MonteCarloSearchTree:\n",
    "    def __init__(self, env):\n",
    "        self.env = env\n",
    "        self.root = Node((0,0))\n",
    "        self.depth_limit = 200\n",
    "        self.c = 2\n",
    "        self.gamma = 0.9\n",
    "\n",
    "    def _selection(self, node):\n",
    "        while len(node.children) > 0:\n",
    "            ucb_values = [self._ucb(child, node.visits) for child in node.children]\n",
    "            node = node.children[np.argmax(ucb_values)]\n",
    "        return node\n",
    "\n",
    "    def _ucb(self, child, parent_visits):\n",
    "        if child.visits == 0:\n",
    "            return float('inf')\n",
    "        exploitation = child.value / child.visits\n",
    "        exploration = self.c * np.sqrt(np.log(parent_visits) / child.visits)\n",
    "        return exploitation + exploration\n",
    "\n",
    "    def _expansion(self, node):\n",
    "        for action in self.env.actions:\n",
    "            next_state = self.env.get_next_state(node.state, action)\n",
    "            child = Node(next_state, parent=node)\n",
    "            node.children.append(child)\n",
    "        return node\n",
    "\n",
    "    def _simulation(self, node):\n",
    "        # Save the original state\n",
    "        original_state = self.env.current_state\n",
    "        \n",
    "        # Set environment to node's state\n",
    "        self.env.current_state = node.state\n",
    "        current_state = node.state\n",
    "        total_reward = 0\n",
    "        depth = 0\n",
    "        \n",
    "        while current_state not in [self.env.goal] and depth < self.depth_limit:\n",
    "            action = np.random.choice(self.env.actions)\n",
    "            next_state, reward, done = self.env.step(action)\n",
    "            total_reward += (self.gamma ** depth) * reward\n",
    "            current_state = next_state\n",
    "            depth += 1\n",
    "            if done:\n",
    "                break\n",
    "        \n",
    "        # Restore the original state\n",
    "        self.env.current_state = original_state\n",
    "        return total_reward\n",
    "\n",
    "    def _backpropagation(self, node, reward):\n",
    "        while node is not None:\n",
    "            node.visits += 1\n",
    "            # Update to use average values instead of cumulative\n",
    "            node.value = (node.value * (node.visits - 1) + reward) / node.visits\n",
    "            reward = reward * self.gamma\n",
    "            node = node.parent\n",
    "\n",
    "    def get_best_action(self, iterations,min_visits=1):\n",
    "        iteration_count = 0\n",
    "        visits_completed= False\n",
    "\n",
    "        for _ in range(iterations):\n",
    "            leaf = self._selection(self.root)\n",
    "            if leaf.state == self.env.goal:\n",
    "                self._backpropagation(leaf, 0)\n",
    "                continue\n",
    "            if leaf.visits == 0:\n",
    "                leaf = self._expansion(leaf)\n",
    "            simulation_result = self._simulation(leaf)\n",
    "            self._backpropagation(leaf, simulation_result)\n",
    "        \n",
    "        # Calculate values for each action\n",
    "        values = []\n",
    "        for action in self.env.actions:\n",
    "            next_state = self.env.get_next_state(self.root.state, action)\n",
    "            for child in self.root.children:\n",
    "                \n",
    "                if child.state == next_state:\n",
    "                    values.append(child.value)\n",
    "                    break\n",
    "        return np.exp(values)/np.sum(np.exp(values)), max(values)\n"
   ]
  },
  {
   "cell_type": "code",
   "execution_count": 3,
   "metadata": {},
   "outputs": [
    {
     "name": "stderr",
     "output_type": "stream",
     "text": [
      " 20%|██        | 1/5 [00:00<00:01,  2.05it/s]"
     ]
    },
    {
     "name": "stdout",
     "output_type": "stream",
     "text": [
      "budget: 500, optimal_value: -3.2587654959592856, optimal_action: 3\n"
     ]
    },
    {
     "name": "stderr",
     "output_type": "stream",
     "text": [
      " 60%|██████    | 3/5 [00:01<00:00,  2.06it/s]"
     ]
    },
    {
     "name": "stdout",
     "output_type": "stream",
     "text": [
      "budget: 500, optimal_value: -2.41223092694093, optimal_action: 0\n",
      "budget: 500, optimal_value: -2.9837404050961265, optimal_action: 1\n"
     ]
    },
    {
     "name": "stderr",
     "output_type": "stream",
     "text": [
      " 80%|████████  | 4/5 [00:01<00:00,  2.14it/s]"
     ]
    },
    {
     "name": "stdout",
     "output_type": "stream",
     "text": [
      "budget: 500, optimal_value: -2.887756553630211, optimal_action: 0\n"
     ]
    },
    {
     "name": "stderr",
     "output_type": "stream",
     "text": [
      "100%|██████████| 5/5 [00:02<00:00,  2.13it/s]\n"
     ]
    },
    {
     "name": "stdout",
     "output_type": "stream",
     "text": [
      "budget: 500, optimal_value: -3.354269234458841, optimal_action: 1\n"
     ]
    },
    {
     "name": "stderr",
     "output_type": "stream",
     "text": [
      " 20%|██        | 1/5 [00:00<00:03,  1.03it/s]"
     ]
    },
    {
     "name": "stdout",
     "output_type": "stream",
     "text": [
      "budget: 1000, optimal_value: -2.3778538209742166, optimal_action: 0\n"
     ]
    },
    {
     "name": "stderr",
     "output_type": "stream",
     "text": [
      " 40%|████      | 2/5 [00:01<00:02,  1.07it/s]"
     ]
    },
    {
     "name": "stdout",
     "output_type": "stream",
     "text": [
      "budget: 1000, optimal_value: -2.3459325531159094, optimal_action: 0\n"
     ]
    },
    {
     "name": "stderr",
     "output_type": "stream",
     "text": [
      " 60%|██████    | 3/5 [00:02<00:01,  1.10it/s]"
     ]
    },
    {
     "name": "stdout",
     "output_type": "stream",
     "text": [
      "budget: 1000, optimal_value: -2.615191639407085, optimal_action: 1\n"
     ]
    },
    {
     "name": "stderr",
     "output_type": "stream",
     "text": [
      " 80%|████████  | 4/5 [00:03<00:00,  1.06it/s]"
     ]
    },
    {
     "name": "stdout",
     "output_type": "stream",
     "text": [
      "budget: 1000, optimal_value: -2.952014484334338, optimal_action: 3\n"
     ]
    },
    {
     "name": "stderr",
     "output_type": "stream",
     "text": [
      "100%|██████████| 5/5 [00:04<00:00,  1.05it/s]\n"
     ]
    },
    {
     "name": "stdout",
     "output_type": "stream",
     "text": [
      "budget: 1000, optimal_value: -2.7094019617280223, optimal_action: 1\n"
     ]
    },
    {
     "name": "stderr",
     "output_type": "stream",
     "text": [
      " 20%|██        | 1/5 [00:08<00:32,  8.07s/it]"
     ]
    },
    {
     "name": "stdout",
     "output_type": "stream",
     "text": [
      "budget: 10000, optimal_value: -2.122848305817641, optimal_action: 3\n"
     ]
    },
    {
     "name": "stderr",
     "output_type": "stream",
     "text": [
      " 40%|████      | 2/5 [00:16<00:24,  8.30s/it]"
     ]
    },
    {
     "name": "stdout",
     "output_type": "stream",
     "text": [
      "budget: 10000, optimal_value: -1.6924957342587341, optimal_action: 3\n"
     ]
    },
    {
     "name": "stderr",
     "output_type": "stream",
     "text": [
      " 60%|██████    | 3/5 [00:24<00:16,  8.09s/it]"
     ]
    },
    {
     "name": "stdout",
     "output_type": "stream",
     "text": [
      "budget: 10000, optimal_value: -1.7005798413999995, optimal_action: 3\n"
     ]
    },
    {
     "name": "stderr",
     "output_type": "stream",
     "text": [
      " 80%|████████  | 4/5 [00:31<00:07,  7.85s/it]"
     ]
    },
    {
     "name": "stdout",
     "output_type": "stream",
     "text": [
      "budget: 10000, optimal_value: -1.9717335399337124, optimal_action: 3\n"
     ]
    },
    {
     "name": "stderr",
     "output_type": "stream",
     "text": [
      "100%|██████████| 5/5 [00:39<00:00,  7.87s/it]\n"
     ]
    },
    {
     "name": "stdout",
     "output_type": "stream",
     "text": [
      "budget: 10000, optimal_value: -2.0442268646922948, optimal_action: 0\n"
     ]
    },
    {
     "name": "stderr",
     "output_type": "stream",
     "text": [
      " 20%|██        | 1/5 [01:18<05:15, 78.86s/it]"
     ]
    },
    {
     "name": "stdout",
     "output_type": "stream",
     "text": [
      "budget: 100000, optimal_value: -1.4428611733145484, optimal_action: 1\n"
     ]
    },
    {
     "name": "stderr",
     "output_type": "stream",
     "text": [
      " 40%|████      | 2/5 [02:32<03:47, 75.81s/it]"
     ]
    },
    {
     "name": "stdout",
     "output_type": "stream",
     "text": [
      "budget: 100000, optimal_value: -1.331661480886544, optimal_action: 3\n"
     ]
    },
    {
     "name": "stderr",
     "output_type": "stream",
     "text": [
      " 60%|██████    | 3/5 [03:49<02:32, 76.14s/it]"
     ]
    },
    {
     "name": "stdout",
     "output_type": "stream",
     "text": [
      "budget: 100000, optimal_value: -1.56405973167668, optimal_action: 3\n"
     ]
    },
    {
     "name": "stderr",
     "output_type": "stream",
     "text": [
      " 80%|████████  | 4/5 [05:07<01:17, 77.18s/it]"
     ]
    },
    {
     "name": "stdout",
     "output_type": "stream",
     "text": [
      "budget: 100000, optimal_value: -1.2759916325044622, optimal_action: 3\n"
     ]
    },
    {
     "name": "stderr",
     "output_type": "stream",
     "text": [
      "100%|██████████| 5/5 [06:27<00:00, 77.58s/it]"
     ]
    },
    {
     "name": "stdout",
     "output_type": "stream",
     "text": [
      "budget: 100000, optimal_value: -1.4877523914761293, optimal_action: 3\n"
     ]
    },
    {
     "name": "stderr",
     "output_type": "stream",
     "text": [
      "\n"
     ]
    },
    {
     "data": {
      "image/png": "[encoded data removed]",
      "text/plain": [
       "<Figure size 640x480 with 1 Axes>"
      ]
     },
     "metadata": {},
     "output_type": "display_data"
    }
   ],
   "source": [
    "def plot_graph_for_test(env,min_visits=1000):\n",
    "    mcts = MonteCarloSearchTree(env)\n",
    "    mins={}\n",
    "    maxs={}\n",
    "    avgs={}\n",
    "    budget=[500,1000,10000,100000]\n",
    "    probs_pi_dict={}\n",
    "    # time_slots=[1,5,10,50,100]\n",
    "    for b in budget:\n",
    "        min_value = float('inf')\n",
    "        max_value = float('-inf')\n",
    "        avg_value = 0\n",
    "        avg_iteration = 0\n",
    "        avg_pi=None\n",
    "        for i in tqdm(range(5)):\n",
    "            env.reset()\n",
    "            mcts.root = Node((0,0))\n",
    "            probs_pi,optimal_value = mcts.get_best_action(b,min_visits=min_visits)\n",
    "            optimal_action = np.argmax(probs_pi)\n",
    "            print(f'budget: {b}, optimal_value: {optimal_value}, optimal_action: {optimal_action}')\n",
    "            min_value = min(min_value, optimal_value)\n",
    "            max_value = max(max_value, optimal_value)\n",
    "            avg_value += optimal_value\n",
    "            if avg_pi is None:\n",
    "                avg_pi = probs_pi\n",
    "            else:\n",
    "                avg_pi += probs_pi\n",
    "        avg_pi /= 5\n",
    "        probs_pi_dict[b] = avg_pi/5\n",
    "        avg_value /= 5\n",
    "\n",
    "        mins[b] = min_value\n",
    "        maxs[b] = max_value\n",
    "        avgs[b] = avg_value\n",
    "    \n",
    "    return mins,maxs,avgs,budget\n",
    "\n",
    "\n",
    "cat_dynamics = catVsMonsters()\n",
    "# cat_dynamics.current_state = (0,4)\n",
    "mins_cat,maxs_cat, avgs_cat, iterations_cat = plot_graph_for_test(cat_dynamics,min_visits=1)\n",
    "\n",
    "import matplotlib.pyplot as plt\n",
    "# plot with time slots\n",
    "#  and range  in lighter blue and avg in darker blue\n",
    "x_values = [500,1000,10000,100000]\n",
    "y_values =list(avgs_cat.values())\n",
    "plt.plot(x_values,y_values,label='avg')\n",
    "plt.fill_between(x_values,list(mins_cat.values()),list(maxs_cat.values()),alpha=0.5)\n",
    "plt.legend()\n",
    "# plt.xscale('log')\n",
    "plt.show()\n"
   ]
  },
  {
   "cell_type": "code",
   "execution_count": 4,
   "metadata": {},
   "outputs": [
    {
     "name": "stderr",
     "output_type": "stream",
     "text": [
      "inner loop: 100%|██████████| 10/10 [01:25<00:00,  8.58s/it]\n",
      "outer loop:   4%|▍         | 1/25 [01:25<34:19, 85.81s/it]"
     ]
    },
    {
     "name": "stdout",
     "output_type": "stream",
     "text": [
      "\n",
      "state: (0, 0), action_count: [1, 5, 0, 4], pi_cat[(i,j)]: 1\n",
      "--------------------------------\n"
     ]
    },
    {
     "name": "stderr",
     "output_type": "stream",
     "text": [
      "inner loop: 100%|██████████| 10/10 [01:31<00:00,  9.13s/it]\n",
      "outer loop:   8%|▊         | 2/25 [02:57<34:08, 89.07s/it]"
     ]
    },
    {
     "name": "stdout",
     "output_type": "stream",
     "text": [
      "\n",
      "state: (0, 1), action_count: [3, 3, 0, 4], pi_cat[(i,j)]: 3\n",
      "--------------------------------\n"
     ]
    },
    {
     "name": "stderr",
     "output_type": "stream",
     "text": [
      "inner loop: 100%|██████████| 10/10 [01:20<00:00,  8.04s/it]\n",
      "outer loop:  12%|█▏        | 3/25 [04:17<31:12, 85.12s/it]"
     ]
    },
    {
     "name": "stdout",
     "output_type": "stream",
     "text": [
      "\n",
      "state: (0, 2), action_count: [1, 3, 5, 1], pi_cat[(i,j)]: 2\n",
      "--------------------------------\n"
     ]
    },
    {
     "name": "stderr",
     "output_type": "stream",
     "text": []
    }
   ],
   "source": [
    "from tqdm import tqdm\n",
    "\n",
    "env_cat = catVsMonsters()\n",
    "mcts_cat = MonteCarloSearchTree(env_cat)\n",
    "probs_pi_cat={}\n",
    "pi_cat={}\n",
    "pi_cat_second={}\n",
    "for k in tqdm(range(25),desc='outer loop'):\n",
    "    i = k // 5\n",
    "    j = k % 5\n",
    "    action_count = [0,0,0,0]\n",
    "    for p in tqdm(range(10),desc='inner loop'):\n",
    "        if (i,j) not in env_cat.furniture and (i,j) != env_cat.goal:\n",
    "            env_cat.current_state = (i,j)\n",
    "            mcts_cat.root = Node((i,j))\n",
    "            probs_pi_cat[(i,j)],optimal_value= mcts_cat.get_best_action(10000,min_visits=2000)\n",
    "            optimal_action = np.argmax(probs_pi_cat[(i,j)])\n",
    "            action_count[optimal_action] += 1\n",
    "    if (i,j) not in env_cat.furniture and (i,j) != env_cat.goal:\n",
    "        pi_cat[(i,j)] = action_count.index(max(action_count))\n",
    "        print()\n",
    "        print(f'state: {(i,j)}, action_count: {action_count}, pi_cat[(i,j)]: {pi_cat[(i,j)]}')\n",
    "        print(f'--------------------------------')\n"
   ]
  },
  {
   "cell_type": "code",
   "execution_count": null,
   "metadata": {},
   "outputs": [],
   "source": [
    "def print_policy(policy):\n",
    "    for i in range(5):\n",
    "        for j in range(5):\n",
    "            state = (i, j)\n",
    "            if state == env_cat.goal:\n",
    "                print(\"G\", end=\" \")\n",
    "                continue\n",
    "            elif state in env_cat.furniture:\n",
    "                print(\"F\", end=\" \")\n",
    "                continue\n",
    "            action = policy[state]\n",
    "            if action == 0:\n",
    "                print(\"↑\", end=\" \")\n",
    "            elif action == 1:\n",
    "                print(\"↓\", end=\" \")\n",
    "            elif action == 2:\n",
    "                print(\"←\", end=\" \")\n",
    "            elif action == 3:\n",
    "                print(\"→\", end=\" \")\n",
    "            else:\n",
    "                print(\" \", end=\" \")\n",
    "        print()\n",
    "\n",
    "print_policy(pi_cat)\n",
    "# print_policy(pi_cat_second)"
   ]
  },
  {
   "cell_type": "code",
   "execution_count": null,
   "metadata": {},
   "outputs": [],
   "source": [
    "import matplotlib.pyplot as plt\n",
    "# plot with time slots\n",
    "#  and range  in lighter blue and avg in darker blue\n",
    "x_values = [10,50,100,500,1000,10000,100000]\n",
    "grid_world = GridWorld()\n",
    "mins_grid,maxs_grid, avgs_grid, budget_grid = plot_graph_for_test(grid_world)\n",
    "y_values =list(avgs_grid.values())\n",
    "plt.plot(x_values,y_values,label='avg')\n",
    "plt.fill_between(x_values,list(mins_grid.values()),list(maxs_grid.values()),alpha=0.5)\n",
    "plt.legend()\n",
    "plt.xscale('log')\n",
    "plt.show()\n"
   ]
  },
  {
   "cell_type": "code",
   "execution_count": null,
   "metadata": {},
   "outputs": [],
   "source": [
    "from tqdm import tqdm\n",
    "env = GridWorld()\n",
    "mcts = MonteCarloSearchTree(env)\n",
    "probs_pi={}\n",
    "pi={}\n",
    "for k in tqdm(range(25)):\n",
    "    i = k // 5\n",
    "    j = k % 5\n",
    "    action_count = [0,0,0,0]\n",
    "    for p in range(5):\n",
    "        if (i,j) not in env.obstacles and (i,j) != env.goal:\n",
    "            env.current_state = (i,j)\n",
    "            mcts.root = Node((i,j))\n",
    "            probs_pi[(i,j)],optimal_value,optimal_action = mcts.get_best_action(20000)\n",
    "            print(f'state: {(i,j)}, optimal_value: {optimal_value}, optimal_action: {optimal_action}')\n",
    "            action_count[optimal_action] += 1\n",
    "    if (i,j) not in env.obstacles and (i,j) != env.goal:\n",
    "        pi[(i,j)] = action_count.index(max(action_count))\n",
    "\n",
    "    "
   ]
  },
  {
   "cell_type": "code",
   "execution_count": null,
   "metadata": {},
   "outputs": [],
   "source": [
    "def print_policy_grid(policy):\n",
    "    for i in range(5):\n",
    "        for j in range(5):\n",
    "            state = (i, j)\n",
    "            if state == env.goal:\n",
    "                print(\"G\", end=\" \")\n",
    "                continue\n",
    "            elif state in env.obstacles:\n",
    "                print(\"O\", end=\" \")\n",
    "                continue\n",
    "            action = policy[state]\n",
    "            if action == 0:\n",
    "                print(\"↑\", end=\" \")\n",
    "            elif action == 1:\n",
    "                print(\"↓\", end=\" \")\n",
    "            elif action == 2:\n",
    "                print(\"←\", end=\" \")\n",
    "            elif action == 3:\n",
    "                print(\"→\", end=\" \")\n",
    "            else:\n",
    "                print(\" \", end=\" \")\n",
    "        print()\n",
    "\n",
    "print_policy(pi)"
   ]
  },
  {
   "cell_type": "code",
   "execution_count": null,
   "metadata": {},
   "outputs": [],
   "source": [
    "def get_greedy_policy(probs_pi):\n",
    "    policy = {}\n",
    "    for state in probs_pi:\n",
    "        if state not in env.obstacles and state != env.goal:\n",
    "            policy[state] = np.argmax(probs_pi[state])\n",
    "    return policy\n",
    "print(probs_pi)\n",
    "print_policy_grid(get_greedy_policy(probs_pi))\n"
   ]
  }
 ],
 "metadata": {
  "kernelspec": {
   "display_name": "Python 3",
   "language": "python",
   "name": "python3"
  },
  "language_info": {
   "codemirror_mode": {
    "name": "ipython",
    "version": 3
   },
   "file_extension": ".py",
   "mimetype": "text/x-python",
   "name": "python",
   "nbconvert_exporter": "python",
   "pygments_lexer": "ipython3",
   "version": "3.9.6"
  }
 },
 "nbformat": 4,
 "nbformat_minor": 2
}
